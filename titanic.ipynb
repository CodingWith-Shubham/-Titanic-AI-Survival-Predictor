{
 "cells": [
  {
   "cell_type": "markdown",
   "id": "2b381681-2d8d-437b-a488-5f9414ee3eb3",
   "metadata": {},
   "source": [
    "# This model is going to predict wheather a passenger on titanic survived or not \n",
    "## It is a problem statement from Kaggle"
   ]
  },
  {
   "cell_type": "code",
   "execution_count": 1,
   "id": "0269bfb6-676c-4848-86aa-093f607273e7",
   "metadata": {},
   "outputs": [
    {
     "name": "stderr",
     "output_type": "stream",
     "text": [
      "C:\\Users\\mamga\\AppData\\Local\\Temp\\ipykernel_11616\\3933402411.py:14: FutureWarning: A value is trying to be set on a copy of a DataFrame or Series through chained assignment using an inplace method.\n",
      "The behavior will change in pandas 3.0. This inplace method will never work because the intermediate object on which we are setting values always behaves as a copy.\n",
      "\n",
      "For example, when doing 'df[col].method(value, inplace=True)', try using 'df.method({col: value}, inplace=True)' or df[col] = df[col].method(value) instead, to perform the operation inplace on the original object.\n",
      "\n",
      "\n",
      "  train_df['Age'].fillna(train_df['Age'].median(), inplace=True)\n",
      "C:\\Users\\mamga\\AppData\\Local\\Temp\\ipykernel_11616\\3933402411.py:17: FutureWarning: A value is trying to be set on a copy of a DataFrame or Series through chained assignment using an inplace method.\n",
      "The behavior will change in pandas 3.0. This inplace method will never work because the intermediate object on which we are setting values always behaves as a copy.\n",
      "\n",
      "For example, when doing 'df[col].method(value, inplace=True)', try using 'df.method({col: value}, inplace=True)' or df[col] = df[col].method(value) instead, to perform the operation inplace on the original object.\n",
      "\n",
      "\n",
      "  train_df['Embarked'].fillna(train_df['Embarked'].mode()[0], inplace=True)\n",
      "C:\\Users\\mamga\\AppData\\Local\\Temp\\ipykernel_11616\\3933402411.py:20: FutureWarning: A value is trying to be set on a copy of a DataFrame or Series through chained assignment using an inplace method.\n",
      "The behavior will change in pandas 3.0. This inplace method will never work because the intermediate object on which we are setting values always behaves as a copy.\n",
      "\n",
      "For example, when doing 'df[col].method(value, inplace=True)', try using 'df.method({col: value}, inplace=True)' or df[col] = df[col].method(value) instead, to perform the operation inplace on the original object.\n",
      "\n",
      "\n",
      "  train_df['Fare'].fillna(train_df['Fare'].median(), inplace=True)\n"
     ]
    }
   ],
   "source": [
    "import pandas as pd\n",
    "import numpy as np\n",
    "from sklearn.model_selection import train_test_split\n",
    "from sklearn.ensemble import RandomForestClassifier\n",
    "from sklearn.metrics import accuracy_score\n",
    "from sklearn.preprocessing import LabelEncoder\n",
    "from sklearn.impute import SimpleImputer\n",
    "\n",
    "# Load training data (adjust path as needed)\n",
    "train_df = pd.read_csv('train.csv')\n",
    "\n",
    "# Handle missing values\n",
    "# Fill Age NaN with median age\n",
    "train_df['Age'].fillna(train_df['Age'].median(), inplace=True)\n",
    "\n",
    "# Fill Embarked NaN with most common value\n",
    "train_df['Embarked'].fillna(train_df['Embarked'].mode()[0], inplace=True)\n",
    "\n",
    "# Fill Fare NaN with median fare\n",
    "train_df['Fare'].fillna(train_df['Fare'].median(), inplace=True)\n",
    "\n",
    "# Cabin has too many missing values, we'll drop it\n",
    "train_df.drop('Cabin', axis=1, inplace=True)\n",
    "\n",
    "# Convert categorical variables to numerical\n",
    "label_encoder = LabelEncoder()\n",
    "train_df['Sex'] = label_encoder.fit_transform(train_df['Sex'])\n",
    "train_df['Embarked'] = label_encoder.fit_transform(train_df['Embarked'])\n",
    "\n",
    "# Extract titles from names as a new feature\n",
    "train_df['Title'] = train_df['Name'].str.extract(' ([A-Za-z]+)\\.', expand=False)\n",
    "train_df['Title'] = label_encoder.fit_transform(train_df['Title'])\n",
    "\n",
    "# Drop unnecessary columns\n",
    "train_df.drop(['PassengerId', 'Name', 'Ticket'], axis=1, inplace=True)"
   ]
  },
  {
   "cell_type": "code",
   "execution_count": 2,
   "id": "51493ef7-d5e8-4b40-8be4-a4d866633b5b",
   "metadata": {},
   "outputs": [],
   "source": [
    "# Create family size feature\n",
    "train_df['FamilySize'] = train_df['SibSp'] + train_df['Parch'] + 1\n",
    "\n",
    "# Create is alone feature\n",
    "train_df['IsAlone'] = 0\n",
    "train_df.loc[train_df['FamilySize'] == 1, 'IsAlone'] = 1\n",
    "\n",
    "# Create age bins\n",
    "train_df['AgeBin'] = pd.cut(train_df['Age'].astype(int), 5)\n",
    "label_encoder = LabelEncoder()\n",
    "train_df['AgeBin'] = label_encoder.fit_transform(train_df['AgeBin'])\n",
    "\n",
    "# Create fare bins\n",
    "train_df['FareBin'] = pd.qcut(train_df['Fare'], 4)\n",
    "label_encoder = LabelEncoder()\n",
    "train_df['FareBin'] = label_encoder.fit_transform(train_df['FareBin'])\n",
    "\n",
    "# Drop original columns we binned\n",
    "train_df.drop(['Age', 'Fare', 'SibSp', 'Parch'], axis=1, inplace=True)"
   ]
  },
  {
   "cell_type": "code",
   "execution_count": 3,
   "id": "374e853a-efe6-4355-93d6-8f6cda55003f",
   "metadata": {},
   "outputs": [
    {
     "name": "stdout",
     "output_type": "stream",
     "text": [
      "Validation Accuracy: 0.82\n"
     ]
    }
   ],
   "source": [
    "# Separate features and target\n",
    "X = train_df.drop('Survived', axis=1)\n",
    "y = train_df['Survived']\n",
    "\n",
    "# Split data into training and validation sets\n",
    "X_train, X_val, y_train, y_val = train_test_split(X, y, test_size=0.2, random_state=42)\n",
    "\n",
    "# Initialize and train Random Forest classifier\n",
    "rf = RandomForestClassifier(n_estimators=100, random_state=42)\n",
    "rf.fit(X_train, y_train)\n",
    "\n",
    "# Make predictions on validation set\n",
    "y_pred = rf.predict(X_val)\n",
    "\n",
    "# Calculate accuracy\n",
    "accuracy = accuracy_score(y_val, y_pred)\n",
    "print(f\"Validation Accuracy: {accuracy:.2f}\")"
   ]
  },
  {
   "cell_type": "code",
   "execution_count": 9,
   "id": "bb708768-fdb6-48f0-8263-c52d3e65aae1",
   "metadata": {},
   "outputs": [
    {
     "name": "stdout",
     "output_type": "stream",
     "text": [
      "Submission file created successfully!\n"
     ]
    },
    {
     "name": "stderr",
     "output_type": "stream",
     "text": [
      "C:\\Users\\mamga\\AppData\\Local\\Temp\\ipykernel_11616\\433317075.py:8: FutureWarning: A value is trying to be set on a copy of a DataFrame or Series through chained assignment using an inplace method.\n",
      "The behavior will change in pandas 3.0. This inplace method will never work because the intermediate object on which we are setting values always behaves as a copy.\n",
      "\n",
      "For example, when doing 'df[col].method(value, inplace=True)', try using 'df.method({col: value}, inplace=True)' or df[col] = df[col].method(value) instead, to perform the operation inplace on the original object.\n",
      "\n",
      "\n",
      "  test_df['Age'].fillna(test_df['Age'].median(), inplace=True)\n",
      "C:\\Users\\mamga\\AppData\\Local\\Temp\\ipykernel_11616\\433317075.py:9: FutureWarning: A value is trying to be set on a copy of a DataFrame or Series through chained assignment using an inplace method.\n",
      "The behavior will change in pandas 3.0. This inplace method will never work because the intermediate object on which we are setting values always behaves as a copy.\n",
      "\n",
      "For example, when doing 'df[col].method(value, inplace=True)', try using 'df.method({col: value}, inplace=True)' or df[col] = df[col].method(value) instead, to perform the operation inplace on the original object.\n",
      "\n",
      "\n",
      "  test_df['Embarked'].fillna(test_df['Embarked'].mode()[0], inplace=True)\n",
      "C:\\Users\\mamga\\AppData\\Local\\Temp\\ipykernel_11616\\433317075.py:10: FutureWarning: A value is trying to be set on a copy of a DataFrame or Series through chained assignment using an inplace method.\n",
      "The behavior will change in pandas 3.0. This inplace method will never work because the intermediate object on which we are setting values always behaves as a copy.\n",
      "\n",
      "For example, when doing 'df[col].method(value, inplace=True)', try using 'df.method({col: value}, inplace=True)' or df[col] = df[col].method(value) instead, to perform the operation inplace on the original object.\n",
      "\n",
      "\n",
      "  test_df['Fare'].fillna(test_df['Fare'].median(), inplace=True)\n"
     ]
    }
   ],
   "source": [
    "# Load test data\n",
    "test_df = pd.read_csv('test.csv')  # Update with your actual test file path\n",
    "\n",
    "# Keep PassengerId for submission\n",
    "passenger_ids = test_df['PassengerId']\n",
    "\n",
    "# 1. Handle missing values (same as training)\n",
    "test_df['Age'].fillna(test_df['Age'].median(), inplace=True)\n",
    "test_df['Embarked'].fillna(test_df['Embarked'].mode()[0], inplace=True)\n",
    "test_df['Fare'].fillna(test_df['Fare'].median(), inplace=True)\n",
    "\n",
    "# 2. Drop Cabin (same as training)\n",
    "test_df.drop('Cabin', axis=1, inplace=True)\n",
    "\n",
    "# 3. Convert categorical variables (same encoders as training)\n",
    "test_df['Sex'] = label_encoder.fit_transform(test_df['Sex'])\n",
    "test_df['Embarked'] = label_encoder.fit_transform(test_df['Embarked'])\n",
    "\n",
    "# 4. Extract titles (same as training)\n",
    "test_df['Title'] = test_df['Name'].str.extract(' ([A-Za-z]+)\\.', expand=False)\n",
    "test_df['Title'] = label_encoder.fit_transform(test_df['Title'])\n",
    "\n",
    "# 5. Drop unnecessary columns (same as training)\n",
    "test_df.drop(['Name', 'Ticket'], axis=1, inplace=True)\n",
    "\n",
    "# 6. Feature engineering (same as training)\n",
    "test_df['FamilySize'] = test_df['SibSp'] + test_df['Parch'] + 1\n",
    "test_df['IsAlone'] = 0\n",
    "test_df.loc[test_df['FamilySize'] == 1, 'IsAlone'] = 1\n",
    "\n",
    "# 7. Create bins (using same bin edges as training)\n",
    "# For AgeBin - use the same cut points from training\n",
    "age_bins = [0, 16, 32, 48, 64, 80]  # Example - use your actual training bins\n",
    "test_df['AgeBin'] = pd.cut(test_df['Age'].astype(int), bins=age_bins, labels=False)\n",
    "\n",
    "# For FareBin - use same quantiles as training\n",
    "fare_bins = [-0.001, 7.91, 14.454, 31.0, 512.329]  # Example quantiles\n",
    "test_df['FareBin'] = pd.cut(test_df['Fare'], bins=fare_bins, labels=False)\n",
    "\n",
    "# 8. Drop original columns (same as training)\n",
    "test_df.drop(['Age', 'Fare', 'SibSp', 'Parch'], axis=1, inplace=True)\n",
    "\n",
    "# Ensure same column order as training data\n",
    "# Get the columns in the same order as the training set (excluding 'Survived')\n",
    "train_columns = [col for col in X_train.columns if col != 'Survived']\n",
    "test_df = test_df[train_columns]\n",
    "\n",
    "# Make predictions\n",
    "test_predictions = rf.predict(test_df)\n",
    "\n",
    "# Create submission file\n",
    "submission = pd.DataFrame({\n",
    "    'PassengerId': passenger_ids,\n",
    "    'Survived': test_predictions\n",
    "})\n",
    "\n",
    "# Save to CSV\n",
    "submission.to_csv('titanic_submissions.csv', index=False)\n",
    "\n",
    "print(\"Submission file created successfully!\")"
   ]
  },
  {
   "cell_type": "code",
   "execution_count": null,
   "id": "7246471d-696d-402f-982e-f8d6ecb03092",
   "metadata": {},
   "outputs": [],
   "source": []
  }
 ],
 "metadata": {
  "kernelspec": {
   "display_name": "Python 3 (ipykernel)",
   "language": "python",
   "name": "python3"
  },
  "language_info": {
   "codemirror_mode": {
    "name": "ipython",
    "version": 3
   },
   "file_extension": ".py",
   "mimetype": "text/x-python",
   "name": "python",
   "nbconvert_exporter": "python",
   "pygments_lexer": "ipython3",
   "version": "3.10.0"
  }
 },
 "nbformat": 4,
 "nbformat_minor": 5
}
